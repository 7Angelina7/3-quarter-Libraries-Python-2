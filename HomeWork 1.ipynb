{
 "cells": [
  {
   "cell_type": "markdown",
   "id": "423a9ddb",
   "metadata": {},
   "source": [
    "### Задание1. Приведите по 2 примера, когда лучше максимизировать Precision, а когда Recall."
   ]
  },
  {
   "cell_type": "markdown",
   "id": "ca26bf76",
   "metadata": {},
   "source": [
    "##### Максимизация Precision\n",
    "##### - Пропускная система.\n",
    "##### - Обнаружение рака на снимке маммографии. \n",
    "##### Потому что нельзя допустить большого False Positive.\n",
    "\n",
    "##### Максимизация Recall\n",
    "##### - Диагностика болен/здоров.\n",
    "##### - Обнаружение голубей на изображении.\n",
    "##### Потому что в этих случаях можно допустить ложных срабатываний."
   ]
  },
  {
   "cell_type": "markdown",
   "id": "ec9d1cad",
   "metadata": {},
   "source": [
    "### Задание 2. Почему мы используем F-меру, почему, например, нельзя просто взять среднее от Precision и Recall?"
   ]
  },
  {
   "cell_type": "markdown",
   "id": "234f97a3",
   "metadata": {},
   "source": [
    "#### Потому что часто неудобно оценивать Precision и Recall по отдельности. Поэтому пользуются метрикой F-score, дающей гармоническое среднее между полнотой и точностью. С помощью коэффициента $\\beta$ можно регулировать вклад точности и полноты в F-score."
   ]
  },
  {
   "cell_type": "markdown",
   "id": "9aa35a72",
   "metadata": {},
   "source": [
    "<center>$\\LARGE F_{\\beta} = (1+ \\beta^2) \\cdot \\frac{precision \\: \\cdot \\: recall}{(\\beta^2 \\cdot precision) \\: + \\: recall}$<center>"
   ]
  },
  {
   "cell_type": "code",
   "execution_count": null,
   "id": "cd593f5f",
   "metadata": {},
   "outputs": [],
   "source": []
  }
 ],
 "metadata": {
  "kernelspec": {
   "display_name": "Python 3 (ipykernel)",
   "language": "python",
   "name": "python3"
  },
  "language_info": {
   "codemirror_mode": {
    "name": "ipython",
    "version": 3
   },
   "file_extension": ".py",
   "mimetype": "text/x-python",
   "name": "python",
   "nbconvert_exporter": "python",
   "pygments_lexer": "ipython3",
   "version": "3.9.7"
  }
 },
 "nbformat": 4,
 "nbformat_minor": 5
}
